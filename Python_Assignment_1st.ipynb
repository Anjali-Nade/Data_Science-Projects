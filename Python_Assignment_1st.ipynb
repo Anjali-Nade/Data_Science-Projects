{
 "cells": [
  {
   "cell_type": "code",
   "execution_count": 1,
   "metadata": {},
   "outputs": [
    {
     "name": "stdout",
     "output_type": "stream",
     "text": [
      "Hello India!!!\n"
     ]
    }
   ],
   "source": [
    "##Anjali Nade##\n",
    "##Date 20th May 2021\n",
    "\n",
    "Message = \"Hello India!!!\"\n",
    "print(Message)"
   ]
  },
  {
   "cell_type": "code",
   "execution_count": 2,
   "metadata": {},
   "outputs": [
    {
     "name": "stdout",
     "output_type": "stream",
     "text": [
      "Msg = How are you?\n",
      "Msg =  I'm  Fine\n"
     ]
    }
   ],
   "source": [
    "Msg = \"How are you?\"\n",
    "print(\"Msg =\",Msg)\n",
    "Msg =\" I'm  Fine\"\n",
    "print(\"Msg =\",Msg)"
   ]
  },
  {
   "cell_type": "code",
   "execution_count": 3,
   "metadata": {},
   "outputs": [
    {
     "name": "stdout",
     "output_type": "stream",
     "text": [
      "\"Hello Dolly , would u like to Dance?\"\n"
     ]
    }
   ],
   "source": [
    "Name = \"Dolly\"\n",
    "print('\"Hello',Name,\",\",'would u like to Dance?\"')"
   ]
  },
  {
   "cell_type": "code",
   "execution_count": 5,
   "metadata": {},
   "outputs": [
    {
     "name": "stdout",
     "output_type": "stream",
     "text": [
      "\"Dalai Lama once said,In order to carry a positive action we must develop here a positive vision.\"\n"
     ]
    }
   ],
   "source": [
    "print('\"Dalai Lama once said,In order to carry a positive action we must develop here a positive vision.\"')"
   ]
  },
  {
   "cell_type": "code",
   "execution_count": 7,
   "metadata": {},
   "outputs": [
    {
     "name": "stdout",
     "output_type": "stream",
     "text": [
      "\" Sam Levenson once said , Don't watch the clock;do what it does. KEEP GOING. \"\n"
     ]
    }
   ],
   "source": [
    "##printing the quote of famous person\n",
    "Famous_person = \"Sam Levenson\"\n",
    "quote = \"Don't watch the clock;do what it does. KEEP GOING.\"\n",
    "print('\"',Famous_person,'once said',',',quote,'\"')\n"
   ]
  },
  {
   "cell_type": "code",
   "execution_count": 9,
   "metadata": {},
   "outputs": [
    {
     "name": "stdout",
     "output_type": "stream",
     "text": [
      "8\n",
      "8\n",
      "8\n",
      "8.0\n"
     ]
    }
   ],
   "source": [
    "print(4+4)        #addition\n",
    "print(9-1)        #Substraction\n",
    "print(4*2)        #Multipication\n",
    "print(8/1)        #Division"
   ]
  },
  {
   "cell_type": "code",
   "execution_count": 10,
   "metadata": {},
   "outputs": [
    {
     "name": "stdout",
     "output_type": "stream",
     "text": [
      "my fev Number is: 10\n"
     ]
    }
   ],
   "source": [
    "fev_no = int(10)\n",
    "print(\"my fev Number is:\",fev_no)"
   ]
  },
  {
   "cell_type": "code",
   "execution_count": 12,
   "metadata": {},
   "outputs": [
    {
     "name": "stdout",
     "output_type": "stream",
     "text": [
      "Anjali\n",
      "Tarun\n",
      "shital\n",
      "Mayank\n",
      "Tejas\n",
      "Vishi\n",
      "Rishi\n"
     ]
    }
   ],
   "source": [
    "Name = [\"Anjali\",\"Tarun\",\"shital\",\"Mayank\",\"Tejas\",\"Vishi\",\"Rishi\"]\n",
    "print(Name[0])\n",
    "print(Name[1])\n",
    "print(Name[2]) \n",
    "print(Name[3])\n",
    "print(Name[4])\n",
    "print(Name[5])\n",
    "print(Name[6])"
   ]
  },
  {
   "cell_type": "code",
   "execution_count": 13,
   "metadata": {},
   "outputs": [
    {
     "name": "stdout",
     "output_type": "stream",
     "text": [
      "whats up? Anjali\n",
      "whats up? Tarun\n",
      "whats up? shital\n",
      "whats up? Mayank\n",
      "whats up? Tejas\n",
      "whats up? Vishi\n"
     ]
    }
   ],
   "source": [
    "print(\"whats up?\",Name[0])\n",
    "print(\"whats up?\",Name[1])\n",
    "print(\"whats up?\",Name[2])\n",
    "print(\"whats up?\",Name[3])\n",
    "print(\"whats up?\",Name[4])\n",
    "print(\"whats up?\",Name[5])"
   ]
  },
  {
   "cell_type": "code",
   "execution_count": 22,
   "metadata": {},
   "outputs": [
    {
     "name": "stdout",
     "output_type": "stream",
     "text": [
      "\"i would like to travel in\" airoplane \"\n",
      "\" train was late by 1 hour\"\n",
      "\"It will take time to reach there by Cycle \"\n"
     ]
    }
   ],
   "source": [
    "Vehicles = [\"Cycle\",\"Motorcycle\",\"Train\",\"Audi\",\"Airoplane\",\"Helicopter\"]\n",
    "print('\"i would like to travel in\"', Vehicles[4],'\"')\n",
    "print('\"',Vehicles[2],'was late by 1 hour\"')\n",
    "print('\"It will take time to reach there by', Vehicles[0],'\"')"
   ]
  },
  {
   "cell_type": "code",
   "execution_count": null,
   "metadata": {},
   "outputs": [],
   "source": []
  },
  {
   "cell_type": "code",
   "execution_count": null,
   "metadata": {},
   "outputs": [],
   "source": []
  }
 ],
 "metadata": {
  "kernelspec": {
   "display_name": "Python 3",
   "language": "python",
   "name": "python3"
  },
  "language_info": {
   "codemirror_mode": {
    "name": "ipython",
    "version": 3
   },
   "file_extension": ".py",
   "mimetype": "text/x-python",
   "name": "python",
   "nbconvert_exporter": "python",
   "pygments_lexer": "ipython3",
   "version": "3.8.5"
  }
 },
 "nbformat": 4,
 "nbformat_minor": 4
}
